{
  "nbformat": 4,
  "nbformat_minor": 0,
  "metadata": {
    "colab": {
      "name": "pyspark1.ipynb",
      "provenance": [],
      "collapsed_sections": [],
      "authorship_tag": "ABX9TyND/hNkOuwh4BfTX2ut4cic",
      "include_colab_link": true
    },
    "kernelspec": {
      "name": "python3",
      "display_name": "Python 3"
    },
    "language_info": {
      "name": "python"
    }
  },
  "cells": [
    {
      "cell_type": "markdown",
      "metadata": {
        "id": "view-in-github",
        "colab_type": "text"
      },
      "source": [
        "<a href=\"https://colab.research.google.com/github/Harshaveenakondeti/pyspark/blob/main/pyspark1.ipynb\" target=\"_parent\"><img src=\"https://colab.research.google.com/assets/colab-badge.svg\" alt=\"Open In Colab\"/></a>"
      ]
    },
    {
      "cell_type": "code",
      "execution_count": null,
      "metadata": {
        "colab": {
          "base_uri": "https://localhost:8080/"
        },
        "id": "0KcPAUqPbKKJ",
        "outputId": "1aeb1090-4fa9-4342-9958-5b8132814934"
      },
      "outputs": [
        {
          "output_type": "stream",
          "name": "stdout",
          "text": [
            "Looking in indexes: https://pypi.org/simple, https://us-python.pkg.dev/colab-wheels/public/simple/\n",
            "Collecting pyspark\n",
            "  Downloading pyspark-3.3.0.tar.gz (281.3 MB)\n",
            "\u001b[K     |████████████████████████████████| 281.3 MB 45 kB/s \n",
            "\u001b[?25hCollecting py4j==0.10.9.5\n",
            "  Downloading py4j-0.10.9.5-py2.py3-none-any.whl (199 kB)\n",
            "\u001b[K     |████████████████████████████████| 199 kB 63.1 MB/s \n",
            "\u001b[?25hBuilding wheels for collected packages: pyspark\n",
            "  Building wheel for pyspark (setup.py) ... \u001b[?25l\u001b[?25hdone\n",
            "  Created wheel for pyspark: filename=pyspark-3.3.0-py2.py3-none-any.whl size=281764026 sha256=c9d7043a403e7d7098cae92829c4145a01beb4697dd7e9c4aeb7af908cc93f93\n",
            "  Stored in directory: /root/.cache/pip/wheels/7a/8e/1b/f73a52650d2e5f337708d9f6a1750d451a7349a867f928b885\n",
            "Successfully built pyspark\n",
            "Installing collected packages: py4j, pyspark\n",
            "Successfully installed py4j-0.10.9.5 pyspark-3.3.0\n"
          ]
        }
      ],
      "source": [
        "pip install pyspark"
      ]
    },
    {
      "cell_type": "code",
      "source": [
        "from pyspark import SparkContext, SparkConf\n",
        "#from pyspark.sql import SparkSession\n",
        "conf=SparkConf().setAppName('first_app')\n",
        "sc=SparkContext(conf=conf)"
      ],
      "metadata": {
        "id": "lqKPUA1RbM0P"
      },
      "execution_count": null,
      "outputs": []
    },
    {
      "cell_type": "code",
      "source": [
        "sc"
      ],
      "metadata": {
        "colab": {
          "base_uri": "https://localhost:8080/",
          "height": 196
        },
        "id": "MQU9kvdicZ57",
        "outputId": "611bf48e-0041-447e-c3b6-8777d77b37d7"
      },
      "execution_count": null,
      "outputs": [
        {
          "output_type": "execute_result",
          "data": {
            "text/plain": [
              "<SparkContext master=local[*] appName=first_app>"
            ],
            "text/html": [
              "\n",
              "        <div>\n",
              "            <p><b>SparkContext</b></p>\n",
              "\n",
              "            <p><a href=\"http://c1ae2d441274:4040\">Spark UI</a></p>\n",
              "\n",
              "            <dl>\n",
              "              <dt>Version</dt>\n",
              "                <dd><code>v3.3.0</code></dd>\n",
              "              <dt>Master</dt>\n",
              "                <dd><code>local[*]</code></dd>\n",
              "              <dt>AppName</dt>\n",
              "                <dd><code>first_app</code></dd>\n",
              "            </dl>\n",
              "        </div>\n",
              "        "
            ]
          },
          "metadata": {},
          "execution_count": 3
        }
      ]
    },
    {
      "cell_type": "code",
      "source": [
        "rdd1=sc.textFile('/content/first_sparktext.txt')"
      ],
      "metadata": {
        "id": "FlgrNbV9cc7J"
      },
      "execution_count": null,
      "outputs": []
    },
    {
      "cell_type": "code",
      "source": [
        "rdd1.collect()  # action to show output"
      ],
      "metadata": {
        "colab": {
          "base_uri": "https://localhost:8080/"
        },
        "id": "8WFz_NnrdZm0",
        "outputId": "b6ff6bc2-a94f-4246-af55-810c4923b4f8"
      },
      "execution_count": null,
      "outputs": [
        {
          "output_type": "execute_result",
          "data": {
            "text/plain": [
              "['This is Apache Spark class and we are learning best big data tool.',\n",
              " 'This is Apache Spark class and we are learning best big data tool.']"
            ]
          },
          "metadata": {},
          "execution_count": 6
        }
      ]
    },
    {
      "cell_type": "code",
      "source": [
        "rdd2 = rdd1.map(lambda x: (x,len(x)))\n",
        "rdd2.collect()"
      ],
      "metadata": {
        "colab": {
          "base_uri": "https://localhost:8080/"
        },
        "id": "CmBVp4itdj7F",
        "outputId": "6ee2d681-960b-4795-e85d-9786c1ea7c66"
      },
      "execution_count": null,
      "outputs": [
        {
          "output_type": "execute_result",
          "data": {
            "text/plain": [
              "[('This is Apache Spark class and we are learning best big data tool.', 66),\n",
              " ('This is Apache Spark class and we are learning best big data tool.', 66)]"
            ]
          },
          "metadata": {},
          "execution_count": 7
        }
      ]
    },
    {
      "cell_type": "code",
      "source": [
        "rdd3= rdd1.map(lambda x : x.split(' '))  # it will be one list only\n",
        "rdd3.collect()"
      ],
      "metadata": {
        "colab": {
          "base_uri": "https://localhost:8080/"
        },
        "id": "SVGVReUNeAIB",
        "outputId": "91c723ba-d0b9-4873-cf9f-5d5d82f2b1cc"
      },
      "execution_count": null,
      "outputs": [
        {
          "output_type": "execute_result",
          "data": {
            "text/plain": [
              "[['This',\n",
              "  'is',\n",
              "  'Apache',\n",
              "  'Spark',\n",
              "  'class',\n",
              "  'and',\n",
              "  'we',\n",
              "  'are',\n",
              "  'learning',\n",
              "  'best',\n",
              "  'big',\n",
              "  'data',\n",
              "  'tool.'],\n",
              " ['This',\n",
              "  'is',\n",
              "  'Apache',\n",
              "  'Spark',\n",
              "  'class',\n",
              "  'and',\n",
              "  'we',\n",
              "  'are',\n",
              "  'learning',\n",
              "  'best',\n",
              "  'big',\n",
              "  'data',\n",
              "  'tool.']]"
            ]
          },
          "metadata": {},
          "execution_count": 8
        }
      ]
    },
    {
      "cell_type": "code",
      "source": [
        "rdd4 = sc.textFile('/content/sec_sparktext.txt')\n",
        "rdd4.collect()"
      ],
      "metadata": {
        "colab": {
          "base_uri": "https://localhost:8080/"
        },
        "id": "cqhkMzy4eYj3",
        "outputId": "5dbe6be3-1cfb-4552-ce6b-0e015f4e14dd"
      },
      "execution_count": null,
      "outputs": [
        {
          "output_type": "execute_result",
          "data": {
            "text/plain": [
              "['1,RAM,50047', '2,Veena,50098', '3,herish,50065', '4,kushi,560084']"
            ]
          },
          "metadata": {},
          "execution_count": 11
        }
      ]
    },
    {
      "cell_type": "code",
      "source": [
        "rdd5 = rdd4.map(lambda x : x.split(',')[2])\n",
        "rdd5.collect()"
      ],
      "metadata": {
        "colab": {
          "base_uri": "https://localhost:8080/"
        },
        "id": "JZqtaiHFfe7H",
        "outputId": "2af11ade-a593-4cf1-a651-ae4cee8c264e"
      },
      "execution_count": null,
      "outputs": [
        {
          "output_type": "execute_result",
          "data": {
            "text/plain": [
              "['50047', '50098', '50065', '560084']"
            ]
          },
          "metadata": {},
          "execution_count": 19
        }
      ]
    },
    {
      "cell_type": "code",
      "source": [
        "rdd6 = rdd1.flatMap(lambda x:x.split(' '))\n",
        "rdd6.collect()"
      ],
      "metadata": {
        "colab": {
          "base_uri": "https://localhost:8080/"
        },
        "id": "4avNoO4MgE6m",
        "outputId": "a3c6aee2-cca8-43c9-c608-273d12543b3a"
      },
      "execution_count": null,
      "outputs": [
        {
          "output_type": "execute_result",
          "data": {
            "text/plain": [
              "['1,RAM,50047', '2,Veena,50098', '3,herish,50065', '4,kushi,560084']"
            ]
          },
          "metadata": {},
          "execution_count": 21
        }
      ]
    },
    {
      "cell_type": "code",
      "source": [
        "list1=[(1,'jan,1994'),(2,'feb',1995)]\n",
        "rdd_convert = sc.parallelize(list1)  # converting list to RDD\n",
        "rdd_convert.collect()  # action"
      ],
      "metadata": {
        "colab": {
          "base_uri": "https://localhost:8080/"
        },
        "id": "Az20wi6FgsbC",
        "outputId": "233c8c23-84d5-4212-c135-4cb10dafbd4c"
      },
      "execution_count": null,
      "outputs": [
        {
          "output_type": "execute_result",
          "data": {
            "text/plain": [
              "[(1, 'jan,1994'), (2, 'feb', 1995)]"
            ]
          },
          "metadata": {},
          "execution_count": 23
        }
      ]
    },
    {
      "cell_type": "code",
      "source": [
        "list1=[(1,'jan,1994'),(2,'feb',1996)]\n",
        "list2=[(3,'jan,1998'),(2,'feb',1996)]\n",
        "list3=[(1,'jan,1991'),(2,'mar',1996)]\n",
        "rdd1 = sc.parallelize(list1)\n",
        "rdd2 = sc.parallelize(list2)\n",
        "rdd3 = sc.parallelize(list3)\n",
        "res= rdd1.union(rdd2).union(rdd3)  # allow duplicates\n",
        "res.count()\n",
        "#res.collect()"
      ],
      "metadata": {
        "colab": {
          "base_uri": "https://localhost:8080/"
        },
        "id": "wvLknJQpjCeG",
        "outputId": "5f77173d-e035-4f65-ad26-7078adf7a029"
      },
      "execution_count": null,
      "outputs": [
        {
          "output_type": "execute_result",
          "data": {
            "text/plain": [
              "6"
            ]
          },
          "metadata": {},
          "execution_count": 26
        }
      ]
    },
    {
      "cell_type": "code",
      "source": [
        "res1= rdd1.intersection(rdd2)\n",
        "res1.collect()"
      ],
      "metadata": {
        "colab": {
          "base_uri": "https://localhost:8080/"
        },
        "id": "OY67hlDJksnf",
        "outputId": "72139716-43f6-41eb-f5d2-a92aa979e144"
      },
      "execution_count": null,
      "outputs": [
        {
          "output_type": "execute_result",
          "data": {
            "text/plain": [
              "[(2, 'feb', 1996)]"
            ]
          },
          "metadata": {},
          "execution_count": 29
        }
      ]
    },
    {
      "cell_type": "code",
      "source": [
        "res2=rdd2.intersection(rdd3)\n",
        "res2.collect()"
      ],
      "metadata": {
        "colab": {
          "base_uri": "https://localhost:8080/"
        },
        "id": "p8fcWZUAlDFy",
        "outputId": "ccb62545-218f-4a74-a56e-7ac92c500932"
      },
      "execution_count": null,
      "outputs": [
        {
          "output_type": "execute_result",
          "data": {
            "text/plain": [
              "[]"
            ]
          },
          "metadata": {},
          "execution_count": 31
        }
      ]
    },
    {
      "cell_type": "code",
      "source": [
        "res3= rdd1.intersection(rdd3)\n",
        "res3.collect()"
      ],
      "metadata": {
        "colab": {
          "base_uri": "https://localhost:8080/"
        },
        "id": "WlkKEP6olrkk",
        "outputId": "2134b474-a5da-4e07-cb49-8e5b65a3206d"
      },
      "execution_count": null,
      "outputs": [
        {
          "output_type": "execute_result",
          "data": {
            "text/plain": [
              "[]"
            ]
          },
          "metadata": {},
          "execution_count": 33
        }
      ]
    },
    {
      "cell_type": "code",
      "source": [
        "list1=[(1,'jan,1994'),(2,'feb',1996),(1,'jan,1994'),(2,'feb',1994)]\n",
        "rdd1=sc.parallelize(list1)\n",
        "rdd1.collect()"
      ],
      "metadata": {
        "colab": {
          "base_uri": "https://localhost:8080/"
        },
        "id": "fjJphqkQl0mi",
        "outputId": "8693a6c0-e46f-46aa-d7d2-65dd83d66f14"
      },
      "execution_count": null,
      "outputs": [
        {
          "output_type": "execute_result",
          "data": {
            "text/plain": [
              "[(1, 'jan,1994'), (2, 'feb', 1996), (1, 'jan,1994'), (2, 'feb', 1994)]"
            ]
          },
          "metadata": {},
          "execution_count": 35
        }
      ]
    },
    {
      "cell_type": "code",
      "source": [
        ""
      ],
      "metadata": {
        "id": "Hkj3trZFmyx7"
      },
      "execution_count": null,
      "outputs": []
    }
  ]
}